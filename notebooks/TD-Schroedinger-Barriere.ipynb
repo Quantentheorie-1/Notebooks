{
 "cells": [
  {
   "cell_type": "markdown",
   "id": "d2bfdd5d",
   "metadata": {},
   "source": [
    "# Teilchen an einer Potentialbarriere"
   ]
  },
  {
   "cell_type": "markdown",
   "id": "fb5c8d84",
   "metadata": {},
   "source": [
    "## Vorbereitung"
   ]
  },
  {
   "cell_type": "markdown",
   "id": "3b4497de",
   "metadata": {},
   "source": [
    "Führen sie zuerst die folgende Zelle aus, um die Simulation vorzubereiten. Sie können diese danach mit dem Pfeil links einklappen. "
   ]
  },
  {
   "cell_type": "code",
   "execution_count": null,
   "id": "9224a864",
   "metadata": {},
   "outputs": [],
   "source": [
    "import numpy as np\n",
    "import plotly.graph_objects as go\n",
    "from plotly.subplots import make_subplots\n",
    "\n",
    "class Schroedinger_Equation:\n",
    "    def __init__(self, hbar=1, m=1):\n",
    "        self.hbar = hbar\n",
    "        self.m = m\n",
    "        \n",
    "    def initialize_grid(self, potential_type, tmin, tmax, Nt, xmin, xmax, Nx, k0=1, d=1, p=0.5):\n",
    "        self.t_grid = np.linspace(tmin, tmax, Nt, endpoint=False)\n",
    "        self.dt = self.t_grid[1] - self.t_grid[0]\n",
    "        \n",
    "        self.dx=(xmax-xmin)/(Nx)\n",
    "        self.x_grid = np.arange(xmin,xmax,self.dx)\n",
    "        \n",
    "        self.dk = 2*np.pi/(xmax-xmin)\n",
    "        self.k_grid = np.arange(-self.dk*Nx/2,self.dk*Nx/2,self.dk)\n",
    "        \n",
    "        self.Nt = Nt # Anzahl der Zeitschritte\n",
    "        self.Nx = Nx\n",
    "        self.Nk = Nx\n",
    "        self.xmin = xmin\n",
    "        self.xmax = xmax\n",
    "        self.kmin = self.k_grid[0]\n",
    "        self.kmax = self.k_grid[-1]\n",
    "        \n",
    "        self.fourier_setup()\n",
    "        \n",
    "        self.psi_x = np.zeros((self.Nt,self.Nx),dtype=complex)\n",
    "        self.psi_k = np.zeros((self.Nt,self.Nx),dtype=complex)\n",
    "        \n",
    "        if potential_type == 'Glauber_Zustand':\n",
    "            q=0   \n",
    "            self.psi_x[0] = 0.5 * np.exp(1j*self.x_grid*p/self.hbar) * np.exp(-0.5*(self.x_grid-q)**2)\n",
    "            self.psi_k[0] = self.discrete_fourier_trafo(self.psi_x[0])\n",
    "        else:\n",
    "            self.psi_k[0] = np.exp( -(self.k_grid-k0)**2 / d**2 )\n",
    "            self.psi_x[0] = self.inv_discrete_fourier_trafo(self.psi_k[0])\n",
    "        \n",
    "        \n",
    "    def fourier_setup(self):\n",
    "        self.discrete_fourier_trafo_setup = np.zeros((self.Nk,self.Nx),dtype=complex)\n",
    "        for i in range(0,self.Nk):\n",
    "            for j in range(0,self.Nx):\n",
    "                self.discrete_fourier_trafo_setup[i,j] = self.dx / np.sqrt(2*np.pi) * np.exp(-1j*self.k_grid[i]*self.x_grid[j])\n",
    "        \n",
    "        self.inv_discrete_fourier_trafo_setup = np.zeros((self.Nx,self.Nk),dtype=complex)\n",
    "        for j in range(0,self.Nx):\n",
    "            for i in range(0,self.Nk):\n",
    "                self.inv_discrete_fourier_trafo_setup[j,i] = self.dk / np.sqrt(2*np.pi) * np.exp(1j*self.k_grid[i]*self.x_grid[j])\n",
    "        \n",
    "    def discrete_fourier_trafo(self,psi_x):\n",
    "        psi_k = self.discrete_fourier_trafo_setup @ psi_x\n",
    "        return psi_k\n",
    "    \n",
    "    def inv_discrete_fourier_trafo(self,psi_k):\n",
    "        psi_x = self.inv_discrete_fourier_trafo_setup @ psi_k\n",
    "        return psi_x\n",
    "    \n",
    "    def calculate_rho(self,psi):\n",
    "        rho = np.abs(psi)**2\n",
    "        return rho\n",
    "    \n",
    "    def split_operator_method(self, potential_type = 'Freies_Teilchen', v=0):\n",
    "        k_propagate_half = np.exp( -1j * (self.hbar/(2.*self.m)) * self.k_grid**2 * self.dt / 2.)\n",
    "        k_propagate = k_propagate_half * k_propagate_half #freies Teilchen\n",
    "        \n",
    "        if potential_type == 'Freies_Teilchen':\n",
    "            for t in range(1, self.Nt):\n",
    "                self.psi_k[t] = self.psi_k[t-1] * k_propagate\n",
    "                self.psi_x[t] = self.inv_discrete_fourier_trafo( self.psi_k[t] )\n",
    "                \n",
    "        elif potential_type == 'Barriere' or potential_type=='Glauber_Zustand':\n",
    "            self.init_v(potential_type, v)\n",
    "            x_propagate = np.exp(-1j*self.v_vector * self.dt / self.hbar)\n",
    "            for t in range(1, self.Nt):\n",
    "                psi_k_temporary = self.psi_k[t-1] * k_propagate_half\n",
    "                psi_x_temporary = self.inv_discrete_fourier_trafo(psi_k_temporary) * x_propagate\n",
    "                self.psi_k[t] = self.discrete_fourier_trafo(psi_x_temporary) * k_propagate_half\n",
    "                self.psi_x[t] = self.inv_discrete_fourier_trafo(self.psi_k[t])\n",
    "                \n",
    "                \n",
    "    def init_v(self, potential_type, v0, x0=40, b=2): #Gauss Potential\n",
    "        if potential_type == 'Barriere':\n",
    "            self.v_vector = v0*np.exp(-0.5*((self.x_grid-x0)/b)**2)\n",
    "        elif potential_type == 'Glauber_Zustand':\n",
    "            self.v_vector = 0.5 * self.x_grid**2\n",
    "            \n",
    "    \n",
    "    def plot_psi(self, t, potential_type):\n",
    "        rho_x = self.calculate_rho(self.psi_x)\n",
    "        \n",
    "        fig = make_subplots(rows=3, cols=1,\n",
    "                            subplot_titles=['Wellenfunktion im Ortsraum', 'Wellenfunktion im Impulsraum',\n",
    "                                            'Aufenthaltswahrscheinlichkeit im Ortsraum'],\n",
    "                            )\n",
    "        \n",
    "        for time in range(self.Nt):\n",
    "            fig.add_trace(go.Scatter(x=self.x_grid, y=np.real(self.psi_x[time]), visible=False, \n",
    "                                     name=r'$\\text{Re}\\left(\\psi\\left(x,t\\right)\\right)$'), 1, 1)\n",
    "            fig.add_trace(go.Scatter(x=self.x_grid, y=np.imag(self.psi_x[time]), visible=False, \n",
    "                                     name=r'$\\text{Im}\\left(\\psi\\left(x,t\\right)\\right)$'), 1, 1)\n",
    "    \n",
    "            fig.add_trace(go.Scatter(x=self.k_grid, y=np.real(self.psi_k[time]), visible=False, \n",
    "                                     name=r'$\\text{Re}\\left(\\tilde{\\psi}\\left(k,t\\right)\\right)$'), 2, 1)\n",
    "            fig.add_trace(go.Scatter(x=self.k_grid, y=np.imag(self.psi_k[time]), visible=False, \n",
    "                                     name=r'$\\text{Im}\\left(\\tilde{\\psi}\\left(k,t\\right)\\right)$'), 2, 1)\n",
    "            \n",
    "            \n",
    "            fig.add_trace(go.Scatter(x=self.x_grid, y=rho_x[time], visible=False, \n",
    "                                     name=r'$|\\psi(x,t)|^2$'), 3, 1)\n",
    "    \n",
    "        fig.data[0].visible = True\n",
    "        fig.data[1].visible = True\n",
    "        fig.data[2].visible = True\n",
    "        fig.data[3].visible = True\n",
    "        fig.data[4].visible = True\n",
    "\n",
    "        if potential_type=='Barriere' or potential_type=='Glauber_Zustand': #Plot potential\n",
    "            fig.add_trace(go.Scatter(x=self.x_grid, y=self.v_vector, visible=True, \n",
    "                                     name=r'$V(x)$'), 3, 1)      \n",
    "        \n",
    "        steps = []\n",
    "        for i in range(0, 5*self.Nt, 5):\n",
    "            if potential_type=='Barriere' or potential_type=='Glauber_Zustand': # Potential always visible\n",
    "                step = dict(method=\"update\", args=[{\"visible\": [False] * (5*self.Nt+1)}], label=str(i*self.dt/5))\n",
    "                step[\"args\"][0][\"visible\"][i:i+5] = [True,True,True,True,True]\n",
    "                step[\"args\"][0][\"visible\"][-1] = True \n",
    "            else:\n",
    "                step = dict(method=\"update\", args=[{\"visible\": [False] * 5*self.Nt}], label=str(i*self.dt/5))\n",
    "                step[\"args\"][0][\"visible\"][i:i+5] = [True,True,True,True,True]\n",
    "            steps.append(step)\n",
    "            \n",
    "        slider = [dict(active=0, steps=steps, currentvalue={\"prefix\": \"t=\"})]\n",
    "\n",
    "        fig.update_layout(sliders=slider, width=1000, height=800)\n",
    "        \n",
    "        fig['layout']['xaxis']['title']=r'$x$'\n",
    "        fig['layout']['xaxis2']['title']=r'$k$'\n",
    "        fig['layout']['xaxis3']['title']=r'$x$'\n",
    "        \n",
    "        if potential_type=='Freies_Teilchen':\n",
    "            fig.update_xaxes(range=[-5, 15])\n",
    "            \n",
    "        elif potential_type=='Barriere':\n",
    "            fig.update_xaxes(range=[-50, 90], row=1, col=1)\n",
    "            fig.update_xaxes(range=[-10, 10], row=2, col=1)\n",
    "            fig.update_xaxes(range=[-50, 90], row=3, col=1)\n",
    "            \n",
    "        elif potential_type=='Glauber_Zustand':\n",
    "            fig.update_xaxes(range=[-5, 5])\n",
    "            fig.update_xaxes(range=[-10, 10], row=2, col=1)\n",
    "        \n",
    "        psi_x_min = min([np.real(self.psi_x).min(),np.imag(self.psi_x).min()])\n",
    "        psi_x_max = max([np.real(self.psi_x).max(),np.imag(self.psi_x).max()])\n",
    "        fig.update_yaxes(range=[psi_x_min-0.02, psi_x_max+0.02], row=1, col=1)\n",
    "        \n",
    "        psi_k_min = min([np.real(self.psi_k).min(),np.imag(self.psi_k).min()])\n",
    "        psi_k_max = max([np.real(self.psi_k).max(),np.imag(self.psi_k).max()])\n",
    "        fig.update_yaxes(range=[psi_k_min-0.02, psi_k_max+0.02], row=2, col=1)\n",
    "        \n",
    "        fig.update_yaxes(range=[rho_x.min()-0.02, rho_x.max()+0.02], row=3, col=1)\n",
    "        \n",
    "        fig.show()\n",
    "  \n",
    "    def solve(self, potential_type='Freies_Teilchen' ,v0=0, tmin=None, tmax=None, Nt=None, xmin=None, xmax=None, Nx=None, \n",
    "              k0=None, d=None, p=0.5):\n",
    "        \n",
    "        if tmin==None or tmax==None or Nt==None:\n",
    "            if potential_type=='Freies_Teilchen':\n",
    "                tmin = 0\n",
    "                tmax = 5\n",
    "                Nt = 50\n",
    "            elif potential_type=='Barriere':\n",
    "                tmin = 0\n",
    "                tmax = 100\n",
    "                Nt = 100\n",
    "            elif potential_type=='Glauber_Zustand':\n",
    "                tmin = 0\n",
    "                tmax = 20\n",
    "                Nt = 100\n",
    "        else:\n",
    "            assert tmin < tmax, \"Min<Max required\"\n",
    "            assert Nt>0, 'Nt>0 required'\n",
    "\n",
    "        if xmin==None or xmax==None or Nx==None:\n",
    "            if potential_type=='Freies_Teilchen':\n",
    "                xmin = -30\n",
    "                xmax = 30\n",
    "                Nx = 2**9+1\n",
    "            elif potential_type=='Barriere':\n",
    "                xmin = -100\n",
    "                xmax = 100\n",
    "                Nx = 2**9+1\n",
    "            elif potential_type=='Glauber_Zustand':\n",
    "                xmin = -6\n",
    "                xmax = 6\n",
    "                Nx = 2**9+1\n",
    "        else:\n",
    "            assert xmin < xmax, \"Min<Max required\"\n",
    "            assert Nx>0, 'Nt>0 required'\n",
    "            \n",
    "        if k0==None:\n",
    "            if potential_type=='Freies_Teilchen':\n",
    "                k0 = 1\n",
    "            elif potential_type=='Barriere':\n",
    "                k0 = 2\n",
    "        if d==None:\n",
    "            if potential_type=='Freies_Teilchen':\n",
    "                d = 1\n",
    "            elif potential_type=='Barriere':\n",
    "                d = 1/2\n",
    "        \n",
    "        \n",
    "        self.initialize_grid(potential_type, tmin, tmax, Nt, xmin, xmax, Nx, k0, d, p)\n",
    "        \n",
    "        self.split_operator_method(potential_type, v0)\n",
    "        \n",
    "        self.plot_psi(0, potential_type)"
   ]
  },
  {
   "cell_type": "markdown",
   "id": "83b7c542",
   "metadata": {},
   "source": [
    "## Simulation"
   ]
  },
  {
   "cell_type": "markdown",
   "id": "119114e1",
   "metadata": {},
   "source": [
    "Durch das ausführen der nächsten Zeile starten sie die Simulation. Um den Parameter $v_0$ zu variieren, den gewünschten Wert in der nächsten Zelle eingeben und diese erneut ausführen. "
   ]
  },
  {
   "cell_type": "code",
   "execution_count": null,
   "id": "bf6b9f8f",
   "metadata": {},
   "outputs": [],
   "source": [
    "schroedinger_class = Schroedinger_Equation()\n",
    "schroedinger_class.solve('Barriere', v0 = 2)"
   ]
  },
  {
   "cell_type": "markdown",
   "id": "c0970b0c",
   "metadata": {},
   "source": [
    "## Schritt für Schritt Berechnung der Animation"
   ]
  },
  {
   "cell_type": "code",
   "execution_count": null,
   "id": "ea620a4c",
   "metadata": {},
   "outputs": [],
   "source": [
    "hbar = 1\n",
    "m = 1"
   ]
  },
  {
   "cell_type": "markdown",
   "id": "a83a0361",
   "metadata": {},
   "source": [
    "### Initialisierung der diskreten 1D Koordinatensysteme"
   ]
  },
  {
   "cell_type": "code",
   "execution_count": null,
   "id": "8e41861f",
   "metadata": {},
   "outputs": [],
   "source": [
    "t_min = 0\n",
    "t_max = 100\n",
    "Nt = 100\n",
    "dt = (t_max-t_min)/(Nt)\n",
    "t_grid = np.arange(t_min,t_max,dt)"
   ]
  },
  {
   "cell_type": "markdown",
   "id": "f66c0b7d",
   "metadata": {},
   "source": [
    "Die Variante, die keine Instabilitäten nach längerer Zeit produziert:"
   ]
  },
  {
   "cell_type": "code",
   "execution_count": null,
   "id": "6af9c17d",
   "metadata": {},
   "outputs": [],
   "source": [
    "x_min = -100\n",
    "x_max = 100\n",
    "Nx = 2**9+1\n",
    "dx = (x_max-x_min)/(Nx)\n",
    "x_grid = np.linspace(x_min,x_max-dx,Nx)"
   ]
  },
  {
   "cell_type": "code",
   "execution_count": null,
   "id": "017939ac",
   "metadata": {},
   "outputs": [],
   "source": [
    "Nk = Nx\n",
    "dk = np.pi /x_max\n",
    "k_grid = np.linspace(-dk*(Nk)/2, dk*(Nk)/2 - dk, Nk)"
   ]
  },
  {
   "cell_type": "code",
   "execution_count": null,
   "id": "35f2aacb",
   "metadata": {},
   "outputs": [],
   "source": [
    "print('Die Werte um den Nullpunkt:')\n",
    "print(k_grid[2**9//2])\n",
    "print(k_grid[2**9//2+1])"
   ]
  },
  {
   "cell_type": "markdown",
   "id": "1393b799",
   "metadata": {},
   "source": [
    "Die eigentlich korrekte Variante:"
   ]
  },
  {
   "cell_type": "code",
   "execution_count": null,
   "id": "36bb63da",
   "metadata": {},
   "outputs": [],
   "source": [
    "x_min = -100\n",
    "x_max = 100\n",
    "Nx = 2**9+1\n",
    "dx = (x_max-x_min)/(Nx-1)\n",
    "x_grid = np.linspace(x_min,x_max,Nx)"
   ]
  },
  {
   "cell_type": "code",
   "execution_count": null,
   "id": "09315536",
   "metadata": {},
   "outputs": [],
   "source": [
    "Nk = Nx\n",
    "dk = np.pi/x_max\n",
    "k_grid = np.linspace(-dk*(Nk-1)/2, dk*(Nk-1)/2, Nk)"
   ]
  },
  {
   "cell_type": "code",
   "execution_count": null,
   "id": "bdfb8bc3",
   "metadata": {},
   "outputs": [],
   "source": [
    "print('Die Werte um den Nullpunkt:')\n",
    "print(k_grid[2**9//2-1])\n",
    "print(k_grid[2**9//2])\n",
    "print(k_grid[2**9//2+1])"
   ]
  },
  {
   "cell_type": "markdown",
   "id": "6c8ea7b1",
   "metadata": {},
   "source": [
    "### Definition der diskreten Fourier-Transformation"
   ]
  },
  {
   "cell_type": "markdown",
   "id": "f4b5e5d0",
   "metadata": {},
   "source": [
    "Die diskrete Fourier-Transformation\n",
    "$\\tilde{\\Psi}(k_{j}) = \\frac{dx}{\\sqrt{2\\pi}}\\sum_{i}e^{-ik_jx_i} \\Psi(x_{i}) $ \n",
    "und ihre Inverse\n",
    "\n",
    "wird mithilfe einer Matrix-Vektor Multiplikation der Form\n",
    "\n",
    "$\n",
    "\\begin{pmatrix}\\tilde{\\Psi}(k_1) \\\\ : \\\\ \\tilde{\\Psi}(k_N) \\end{pmatrix} = \n",
    "\\begin{pmatrix}\\frac{dx}{\\sqrt{2\\pi}}e^{-ik_1x_1} & .. & \\frac{dx}{\\sqrt{2\\pi}}e^{-ik_1x_N} \\\\ \n",
    ": & & : \\\\\n",
    "\\frac{dx}{\\sqrt{2\\pi}}e^{-ik_Nx_1} & .. & \\frac{dx}{\\sqrt{2\\pi}}e^{-ik_Nx_N} \\end{pmatrix}\n",
    "\\begin{pmatrix}\\Psi(x_1) \\\\ : \\\\ \\Psi(x_N) \\end{pmatrix}\n",
    "$\n",
    "\n",
    "berechnet. Analog wird die inverse diskrete Fourier-Transformation \n",
    "$\\Psi(x_{j}) = \\frac{dx}{\\sqrt{2\\pi}}\\sum_{i}e^{ik_ix_j} \\tilde{\\Psi}(k_{i}) $ \n",
    "durchgeführt."
   ]
  },
  {
   "cell_type": "code",
   "execution_count": null,
   "id": "a872fcff",
   "metadata": {},
   "outputs": [],
   "source": [
    "discrete_fourier_trafo_setup = np.zeros((Nk,Nx),dtype=complex)\n",
    "for i in range(0,Nk):\n",
    "    for j in range(0,Nx):\n",
    "        discrete_fourier_trafo_setup[i,j] = dx / np.sqrt(2*np.pi) * np.exp(-1j*k_grid[i]*x_grid[j]) # Die imaginare Einheit i wird in Python mit j bezeichnet"
   ]
  },
  {
   "cell_type": "code",
   "execution_count": null,
   "id": "c2bcd1d1",
   "metadata": {},
   "outputs": [],
   "source": [
    "def discrete_fourier_trafo(psi_x):\n",
    "    psi_k = discrete_fourier_trafo_setup @ psi_x # Matrix-Vektor Multiplikation\n",
    "    return psi_k"
   ]
  },
  {
   "cell_type": "code",
   "execution_count": null,
   "id": "b3e001be",
   "metadata": {},
   "outputs": [],
   "source": [
    "inv_discrete_fourier_trafo_setup = np.zeros((Nx,Nk),dtype=complex)\n",
    "for j in range(0,Nx):\n",
    "    for i in range(0,Nk):\n",
    "        inv_discrete_fourier_trafo_setup[j,i] = dk / np.sqrt(2*np.pi) * np.exp(1j*k_grid[i]*x_grid[j])"
   ]
  },
  {
   "cell_type": "code",
   "execution_count": null,
   "id": "9e2f98ed",
   "metadata": {},
   "outputs": [],
   "source": [
    "def inv_discrete_fourier_trafo(psi_k):\n",
    "    psi_x = inv_discrete_fourier_trafo_setup @ psi_k # Matrix-Vektor Multiplikation\n",
    "    return psi_x"
   ]
  },
  {
   "cell_type": "markdown",
   "id": "82e376a1",
   "metadata": {},
   "source": [
    "### Wellenfunktion initialisieren"
   ]
  },
  {
   "cell_type": "markdown",
   "id": "b51eadac",
   "metadata": {},
   "source": [
    "Die Wellenfunktion im Impulsraum zum Zeitpunkt $t=0$ wird als das Gaußsche Wellenpaket\n",
    "\n",
    "$\\tilde{\\Psi}(k)= e^{-(k-k_0)^2/d^2}$\n",
    "\n",
    "definiert, und die Wellenfunktion im Ortsraum zum Zeitpunkt $t=0$ wird mithilfe der inversen diskreten Fourier-Transformation berechnet.\n",
    "Hierbei gibt $k_0$ den Mittelwert an und $d$ bestimmt die Breite des Wellenpaketes."
   ]
  },
  {
   "cell_type": "code",
   "execution_count": null,
   "id": "1c8dad8b",
   "metadata": {},
   "outputs": [],
   "source": [
    "k0 = 2\n",
    "d = 1/2\n",
    "psi_k = np.zeros((Nt,Nx),dtype=complex)\n",
    "psi_x = np.zeros((Nt,Nx),dtype=complex)"
   ]
  },
  {
   "cell_type": "code",
   "execution_count": null,
   "id": "2d4d82ae",
   "metadata": {},
   "outputs": [],
   "source": [
    "psi_k[0] = np.exp( -(k_grid-k0)**2 / d**2 )\n",
    "psi_x[0] = inv_discrete_fourier_trafo(psi_k[0])"
   ]
  },
  {
   "cell_type": "markdown",
   "id": "bdd2175c",
   "metadata": {},
   "source": [
    "### Potential initialisieren"
   ]
  },
  {
   "cell_type": "markdown",
   "id": "0db2fd42",
   "metadata": {},
   "source": [
    "Die Potentialbarriere wird als gaußsche Glockenkurve der Form\n",
    "\n",
    "$V(x) = v_0  e^{-(x-x_0)^2/b^2}$\n",
    "\n",
    "definiert, wobei v0 das Potential am Maximum angibt, x0 die Position des Maximums und b die Breite der Barriere.\n",
    "\n",
    "Alternativ kann auch eine Potentialstufe initialisiert werden, welche folgende Form hat:\n",
    "\n",
    "$V(x) = \\frac{v0}{2}\\left(1 + \\text{tanh}\\left(x - x_0\\right)\\right)$"
   ]
  },
  {
   "cell_type": "code",
   "execution_count": null,
   "id": "61f12df6",
   "metadata": {},
   "outputs": [],
   "source": [
    "v0 = 2\n",
    "x0 = 40\n",
    "b = 2"
   ]
  },
  {
   "cell_type": "markdown",
   "id": "70b37cff",
   "metadata": {},
   "source": [
    "Führen sie diese Zelle aus, um ein Gaußförmiges Potential zu initialisieren:"
   ]
  },
  {
   "cell_type": "code",
   "execution_count": null,
   "id": "ac39744b",
   "metadata": {},
   "outputs": [],
   "source": [
    "potential = v0 * np.exp(-0.5 * (x_grid-x0)**2 / b**2)"
   ]
  },
  {
   "cell_type": "markdown",
   "id": "3d77f8c9",
   "metadata": {},
   "source": [
    "Führen sie diese Zelle aus, um eine Potentialstufe zu initialisieren:"
   ]
  },
  {
   "cell_type": "code",
   "execution_count": null,
   "id": "77db0e3a",
   "metadata": {},
   "outputs": [],
   "source": [
    "#potential = v0 * (1 + np.tanh(x_grid-x0)) / 2"
   ]
  },
  {
   "cell_type": "markdown",
   "id": "3694670c",
   "metadata": {},
   "source": [
    "### Zeitentwicklung"
   ]
  },
  {
   "cell_type": "markdown",
   "id": "a33a4ef7",
   "metadata": {},
   "source": [
    "Zu jedem Zeitschritt wird die Zeitentwicklung der Wellenfunktion mithilfe der Split-Operator Methode berechnet.\n",
    "\n",
    "Dabei wird zuerst die Wirkung von $e^{-\\frac{i}{\\hbar}\\frac{\\hat{T}}{2}\\Delta t}$ im Impulsraum berechnet:\n",
    "\n",
    "$\\tilde{\\Psi}_{Schritt 1}(k,t) = e^{-\\frac{i}{\\hbar}\\frac{\\hbar^2 k^2}{2 m}\\frac{\\Delta t}{2}} \\: \\tilde{\\Psi}(k,t-1)$\n",
    "\n",
    "Danach wird $\\tilde{\\Psi}_{Schritt 1}(k,t)$ in den Ortsraum transformiert, und dort wird die Wirkung von $e^{-\\frac{i}{\\hbar} \\hat{V} \\Delta t}$ berechnet:\n",
    "\n",
    "$\\Psi_{Schritt 2}(x,t) = e^{-\\frac{i}{\\hbar}V(x)\\Delta t} \\: \\Psi_{Schritt 1}(x,t)$\n",
    "\n",
    "Daraufhin wird $\\Psi_{Schritt 2}(x,t)$ in den Impulsraum transformiert, wo erneut die Wirkung von $e^{-\\frac{i}{\\hbar}\\frac{\\hat{T}}{2}\\Delta t}$ berechnet wird:\n",
    "\n",
    "$\\tilde{\\Psi}(k,t) = e^{-\\frac{i}{\\hbar}\\frac{\\hbar^2 k^2}{2 m}\\frac{\\Delta t}{2}} \\: \\tilde{\\Psi}_{Schritt 2}(k,t)$\n",
    "\n",
    "Abschließend wird noch $\\Psi(x,t)$ mithilfe einer weiteren inversen Fourier-Transformation berechnet."
   ]
  },
  {
   "cell_type": "code",
   "execution_count": null,
   "id": "c91b7839",
   "metadata": {},
   "outputs": [],
   "source": [
    "k_propagate_half = np.exp( -1j * (hbar/(2.*m)) * k_grid**2 * dt / 2.)\n",
    "x_propagate = np.exp(-1j * potential * dt / hbar)"
   ]
  },
  {
   "cell_type": "code",
   "execution_count": null,
   "id": "7480170e",
   "metadata": {},
   "outputs": [],
   "source": [
    "for t in range(1, Nt):\n",
    "    psi_k_temporary = psi_k[t-1] * k_propagate_half\n",
    "    psi_x_temporary = inv_discrete_fourier_trafo(psi_k_temporary) * x_propagate\n",
    "    psi_k[t] = discrete_fourier_trafo(psi_x_temporary) * k_propagate_half\n",
    "    psi_x[t] = inv_discrete_fourier_trafo(psi_k[t])"
   ]
  },
  {
   "cell_type": "markdown",
   "id": "e36ca676",
   "metadata": {},
   "source": [
    "### Wahrscheinlichkeitsdichte"
   ]
  },
  {
   "cell_type": "markdown",
   "id": "42f4a366",
   "metadata": {},
   "source": [
    "Berechnung der Wahrscheinlichkeitsdichte im Ortsraum:\n",
    "\n",
    "$\\rho(x,t) = |\\Psi(x,t)|^2$ "
   ]
  },
  {
   "cell_type": "code",
   "execution_count": null,
   "id": "ae21372a",
   "metadata": {},
   "outputs": [],
   "source": [
    "rho_x = np.abs(psi_x)**2"
   ]
  },
  {
   "cell_type": "markdown",
   "id": "b24618a2",
   "metadata": {},
   "source": [
    "### Plotten"
   ]
  },
  {
   "cell_type": "code",
   "execution_count": null,
   "id": "39b1c8e8",
   "metadata": {
    "scrolled": false
   },
   "outputs": [],
   "source": [
    "fig = make_subplots(rows=3, cols=1,\n",
    "                    subplot_titles=['Wellenfunktion im Ortsraum', 'Wellenfunktion im Impulsraum', 'Aufenthaltswahrscheinlichkeit im Ortsraum'],\n",
    "                    )\n",
    "\n",
    "for time in range(Nt):\n",
    "    fig.add_trace(go.Scatter(x=x_grid, y=np.real(psi_x[time]), visible=False, \n",
    "                             name=r'$\\text{Re}\\left(\\psi\\left(x,t\\right)\\right)$'), 1, 1)\n",
    "    fig.add_trace(go.Scatter(x=x_grid, y=np.imag(psi_x[time]), visible=False, \n",
    "                             name=r'$\\text{Im}\\left(\\psi\\left(x,t\\right)\\right)$'), 1, 1)\n",
    "    \n",
    "    fig.add_trace(go.Scatter(x=k_grid, y=np.real(psi_k[time]), visible=False, \n",
    "                             name=r'$\\text{Re}\\left(\\tilde{\\psi}\\left(k,t\\right)\\right)$'), 2, 1)\n",
    "    fig.add_trace(go.Scatter(x=k_grid, y=np.imag(psi_k[time]), visible=False, \n",
    "                             name=r'$\\text{Im}\\left(\\tilde{\\psi}\\left(k,t\\right)\\right)$'), 2, 1)\n",
    "    \n",
    "    fig.add_trace(go.Scatter(x=x_grid, y=rho_x[time], visible=False, \n",
    "                             name=r'$|\\psi(x,t)|^2$'), 3, 1)\n",
    "\n",
    "fig.add_trace(go.Scatter(x=x_grid, y=potential, visible=True, # Potential plotten \n",
    "                         name=r'$V(x)$'), 3, 1)\n",
    "    \n",
    "fig.data[0].visible = True\n",
    "fig.data[1].visible = True\n",
    "fig.data[2].visible = True\n",
    "fig.data[3].visible = True\n",
    "fig.data[4].visible = True\n",
    "\n",
    "steps = []\n",
    "for i in range(0, 5*Nt, 5):\n",
    "    step = dict(method=\"update\", args=[{\"visible\": [False] * (5*Nt+1)}], label=str(i*dt/5))\n",
    "    step[\"args\"][0][\"visible\"][i:i+5] = [True,True,True,True,True]\n",
    "    step[\"args\"][0][\"visible\"][-1] = True\n",
    "    steps.append(step)\n",
    "\n",
    "slider = [dict(active=0, steps=steps, currentvalue={\"prefix\": \"t=\"})]\n",
    "fig.update_layout(sliders=slider, width=1000, height=800)\n",
    "\n",
    "fig['layout']['xaxis']['title']=r'$x$'\n",
    "fig['layout']['xaxis2']['title']=r'$k$'\n",
    "fig['layout']['xaxis3']['title']=r'$x$'\n",
    "\n",
    "fig.update_xaxes(range=[-50, 90])\n",
    "fig.update_xaxes(range=[-10, 10], row=2, col=1)\n",
    "\n",
    "psi_x_min = min([np.real(psi_x).min(),np.imag(psi_x).min()])\n",
    "psi_x_max = max([np.real(psi_x).max(),np.imag(psi_x).max()])\n",
    "#fig.update_yaxes(range=[psi_x_min-0.02, psi_x_max+0.02], row=1, col=1)\n",
    "\n",
    "psi_k_min = min([np.real(psi_k).min(),np.imag(psi_k).min()])\n",
    "psi_k_max = max([np.real(psi_k).max(),np.imag(psi_k).max()])\n",
    "#fig.update_yaxes(range=[psi_k_min-0.02, psi_k_max+0.02], row=2, col=1)\n",
    "\n",
    "#fig.update_yaxes(range=[rho_x.min()-0.02, rho_x.max()+0.02], row=3, col=1)\n",
    "\n",
    "\n",
    "fig.show()"
   ]
  },
  {
   "cell_type": "code",
   "execution_count": null,
   "id": "01fc0e59",
   "metadata": {},
   "outputs": [],
   "source": []
  },
  {
   "cell_type": "code",
   "execution_count": null,
   "id": "365c4e68",
   "metadata": {},
   "outputs": [],
   "source": []
  },
  {
   "cell_type": "code",
   "execution_count": null,
   "id": "4dc2c54c",
   "metadata": {},
   "outputs": [],
   "source": []
  }
 ],
 "metadata": {
  "kernelspec": {
   "display_name": "Python 3 (ipykernel)",
   "language": "python",
   "name": "python3"
  },
  "language_info": {
   "codemirror_mode": {
    "name": "ipython",
    "version": 3
   },
   "file_extension": ".py",
   "mimetype": "text/x-python",
   "name": "python",
   "nbconvert_exporter": "python",
   "pygments_lexer": "ipython3",
   "version": "3.9.7"
  }
 },
 "nbformat": 4,
 "nbformat_minor": 5
}
