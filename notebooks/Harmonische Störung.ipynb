{
 "cells": [
  {
   "cell_type": "markdown",
   "id": "6b5952a0",
   "metadata": {},
   "source": [
    "# Harmonische Störung"
   ]
  },
  {
   "cell_type": "markdown",
   "id": "b0d51fee",
   "metadata": {},
   "source": [
    "## Vorbereitung"
   ]
  },
  {
   "cell_type": "markdown",
   "id": "0182407f",
   "metadata": {},
   "source": [
    "Führen sie zuerst die folgende Zelle aus, um die Simulation vorzubereiten. Sie können diese danach mit dem Pfeil links einklappen. "
   ]
  },
  {
   "cell_type": "code",
   "execution_count": null,
   "id": "f701346f",
   "metadata": {},
   "outputs": [],
   "source": [
    "import numpy as np\n",
    "import time\n",
    "import plotly.graph_objs as go\n",
    "from plotly.subplots import make_subplots\n",
    "\n",
    "def p_if_func(t, w, w_if):\n",
    "    a = np.sin((w_if+w)*t/2)**2 / (w_if+w)**2\n",
    "    b = np.sin((w_if-w)*t/2)**2 / (w_if-w)**2\n",
    "    c = np.sin((w_if-w)*t/2) * np.sin((w_if+w)*t/2) * np.cos(2*w*t) / ((w_if-w) * (w_if+w))\n",
    "    return 4 * (a + b - 2*c)\n",
    "\n",
    "def plot_pif(t_max=15, fixed_w=1):\n",
    "    wsize = 1000\n",
    "    tsize = 100\n",
    "    delta_w_array = np.linspace(-fixed_w*3,fixed_w*3,wsize)\n",
    "    delta_w = fixed_w\n",
    "    w_array = np.linspace(0,fixed_w*3,wsize)\n",
    "    w = fixed_w\n",
    "    t_array = np.linspace(0,t_max,tsize)\n",
    "    \n",
    "    p_if_array_vary_wif = np.zeros([tsize,wsize])\n",
    "    for i in range(tsize):\n",
    "        p_if_array_vary_wif[i] = p_if_func(t_array[i], w, delta_w_array)\n",
    "        \n",
    "    p_if_array_vary_w = np.zeros([tsize,wsize])\n",
    "    for i in range(tsize):\n",
    "        p_if_array_vary_w[i] = p_if_func(t_array[i], w_array, delta_w)\n",
    "        \n",
    "    fig = make_subplots(rows=1, cols=2,\n",
    "                        subplot_titles=['Für fixes omega = '+str(fixed_w),'Für fixes omega_if = '+str(fixed_w)])\n",
    "\n",
    "    for i in range(0,tsize):\n",
    "        fig.add_trace(go.Scatter(x=delta_w_array, y=p_if_array_vary_wif[i], visible=False, name=r'$P_{if}(\\omega_{if},t)$'), 1, 1)\n",
    "        fig.add_trace(go.Scatter(x=w_array, y=p_if_array_vary_w[i], visible=False, name=r'$P_{if}(\\omega,t)$'), 1, 2)\n",
    "\n",
    "    fig.data[0].visible = True\n",
    "    fig.data[1].visible = True\n",
    "\n",
    "    steps = []\n",
    "    for i in range(tsize):\n",
    "        step = dict(method=\"update\", args=[{\"visible\": [False] * 2*tsize}], label=str(t_array[i]))\n",
    "        step[\"args\"][0][\"visible\"][2*i:2*i+1] = [True,True]\n",
    "        steps.append(step)\n",
    "\n",
    "\n",
    "    fig['layout']['xaxis']['title']=r'$\\omega_{if}$'\n",
    "    fig['layout']['xaxis2']['title']=r'$\\omega$'\n",
    "    fig.update_yaxes(range=[0, 10*t_max])\n",
    "    slider = [dict(active=0, steps=steps, currentvalue={\"prefix\": \"t=\"})]\n",
    "    fig.update_layout(sliders=slider, width=1000, height=800)\n",
    "\n",
    "    fig.show()"
   ]
  },
  {
   "cell_type": "markdown",
   "id": "25378462",
   "metadata": {},
   "source": [
    "## Simulation"
   ]
  },
  {
   "cell_type": "markdown",
   "id": "2d37573b",
   "metadata": {},
   "source": [
    "Durch das ausführen der nächsten Zellen starten sie die Simulation. Sie können sowohl die Zeitspanne, als auch den Wert der festgehaltenen Frequenz manuell eingeben. \n",
    "Anmerkung: Die Fehlermeldung erscheint, weil bei $\\omega=\\omega_{if}$ durch null dividiert wird."
   ]
  },
  {
   "cell_type": "code",
   "execution_count": null,
   "id": "fab99836",
   "metadata": {},
   "outputs": [],
   "source": [
    "plot_pif(t_max=15,fixed_w=1)"
   ]
  },
  {
   "cell_type": "code",
   "execution_count": null,
   "id": "ab658f74",
   "metadata": {},
   "outputs": [],
   "source": []
  },
  {
   "cell_type": "markdown",
   "id": "72b9a290",
   "metadata": {},
   "source": [
    "# Entwurfsteil - Simulation von Besetzungszahlen in einem Zwei-Niveau System"
   ]
  },
  {
   "cell_type": "code",
   "execution_count": null,
   "id": "b60caa54",
   "metadata": {},
   "outputs": [],
   "source": [
    "def p_if_func(t, w, w_if):\n",
    "    a = np.sin((w_if+w)*t/2)**2 / (w_if+w+1e-15)**2\n",
    "    b = np.sin((w_if-w)*t/2)**2 / (w_if-w+1e-15)**2\n",
    "    c = np.sin((w_if-w)*t/2) * np.sin((w_if+w)*t/2) * np.cos(2*w*t) / ((w_if-w) * (w_if+w)+1e-15)\n",
    "    return 4 * (a + b - 2*c)"
   ]
  },
  {
   "cell_type": "code",
   "execution_count": null,
   "id": "fbb068f3",
   "metadata": {},
   "outputs": [],
   "source": [
    "def p_ii_func(t, w): # Dies ist falsch\n",
    "    a = np.sin(w*t/2)**4 / (w + 1e-15)**2\n",
    "    b = np.sin(w*t/2)**2 / (w + 1e-15)\n",
    "    return 1 + 4*a - 2*b "
   ]
  },
  {
   "cell_type": "code",
   "execution_count": null,
   "id": "674e3f41",
   "metadata": {},
   "outputs": [],
   "source": [
    "class Übergänge():\n",
    "    def __init__(self, sample_number=1000, timesteps=200, dt=0.1, w=2, delta_w=3):\n",
    "        self.sample_number=sample_number\n",
    "        self.timesteps = timesteps\n",
    "        self.dt = dt\n",
    "        self.w = w\n",
    "        self.delta_w = delta_w\n",
    "        \n",
    "        self.external_field = self.get_external_field()\n",
    "        self.x_values = [i for i in range(self.sample_number)]\n",
    "        \n",
    "        self.run_states()\n",
    "        self.create_frames()\n",
    "        #self.plot()\n",
    "        \n",
    "    def get_external_field(self):\n",
    "        return [np.sin(self.w * self.dt * t) for t in range(self.timesteps)]    \n",
    "    \n",
    "    def p_if_func(self, t):\n",
    "        a = np.sin((self.delta_w + self.w) * t/2)**2 / (self.delta_w + self.w + 1e-10)**2\n",
    "        b = np.sin((self.delta_w - self.w) * t/2)**2 / (self.delta_w - self.w + 1e-10)**2\n",
    "        c = (np.sin((self.delta_w - self.w) * t/2) * np.sin((self.delta_w + self.w) * t/2) *\n",
    "             np.cos(2 * self.w * t) / ((self.delta_w - self.w) * (self.delta_w + self.w) + 1e-10) )\n",
    "        return 4 * (a + b - 2*c)\n",
    "    \n",
    "    def p_ii_func(self, t):\n",
    "        a = np.sin(self.w * t/2)**4 / (self.w + 1e-10)**2\n",
    "        b = np.sin(self.w * t/2)**2 / (self.w + 1e-10)\n",
    "        return 1 + 4*a - 2*b\n",
    "    \n",
    "    def timestep(self, initial, t): # Initial is 1d array\n",
    "        p_if = self.p_if_func(t)\n",
    "        p_ii = self.p_ii_func(t)\n",
    "\n",
    "        p_if_norm = p_if / (p_if+p_ii)\n",
    "        p_ii_norm = p_ii / (p_if+p_ii)\n",
    "\n",
    "        change_state = np.random.binomial(1, p_if_norm)\n",
    "        final = initial\n",
    "\n",
    "        for i in range(initial.size):\n",
    "            if change_state[i]==1:\n",
    "                final[i] = 1 - initial[i] # Bit flip\n",
    "                t[i] = 0 # Reset time after state change\n",
    "        return final # reset time since change\n",
    "    \n",
    "    def run_states(self):\n",
    "        states = np.zeros(self.sample_number)\n",
    "        self.position_history = np.array([states])\n",
    "        self.total_history = []\n",
    "        \n",
    "        t = self.dt * np.ones(self.sample_number)\n",
    "        for i in range(self.timesteps):\n",
    "            states = self.timestep(states, t)\n",
    "            self.position_history = np.append(self.position_history, np.array([states]), axis=0)\n",
    "            self.total_history.append([self.sample_number - states.sum(), states.sum()])\n",
    "            t += self.dt\n",
    "    \n",
    "    def create_frames(self):\n",
    "        self.frames = []\n",
    "        for i in range(self.timesteps):\n",
    "            self.frames.append(dict(name=i, data=[go.Scatter(x=self.x_values, y=self.position_history[i], mode='markers'),\n",
    "                                                  go.Scatter(x=[0,0], y=[self.external_field[i],0]), \n",
    "                                                  go.Bar(x=['0','1'], y=self.total_history[i])],\n",
    "                                    traces = [0,1,2]\n",
    "            ))\n",
    "            \n",
    "            \n",
    "    def plot(self):\n",
    "        \n",
    "        fig = make_subplots(rows=2, cols=2, subplot_titles=['Title 1', 'External Field', 'Title 3'], \n",
    "                            specs=[[{\"colspan\": 2}, None],[{}, {}]])\n",
    "\n",
    "        fig.add_trace(go.Scatter(x=self.x_values, y=self.position_history[0], mode='markers'), row=1, col=1)\n",
    "\n",
    "        fig.add_trace(go.Scatter(x=[0,0], y=[0,0], marker_size=[10,5], line_dash='dot'), row=2, col=1)\n",
    "\n",
    "        fig.add_trace(go.Bar(x=['0','1'], y=[self.sample_number, 0]), row=2, col=2)\n",
    "\n",
    "        fig.update_layout(yaxis2=dict(range=[-1.05, 1.05], autorange=False), xaxis2_showticklabels=False)\n",
    "        fig.update_layout(yaxis3=dict(range=[0, self.sample_number], autorange=False))\n",
    "\n",
    "        updatemenus = [dict(type='buttons',\n",
    "                            buttons=[dict(label='Play',\n",
    "                                          method='animate',\n",
    "                                          args=[[f'{k}' for k in range(self.timesteps)], \n",
    "                                                 dict(frame=dict(duration=400, redraw=False), \n",
    "                                                      transition=dict(duration=300),\n",
    "                                                      #easing='cubic-in-out',\n",
    "                                                      #fromcurrent=True,\n",
    "                                                      #mode='immediate'\n",
    "                                                                         )])],\n",
    "                            direction= 'left', \n",
    "                            pad=dict(r= 10, t=85), \n",
    "                            showactive =True, x= 0.1, y= 0, xanchor= 'right', yanchor= 'top')\n",
    "                           ]\n",
    "\n",
    "        fig.update(frames=self.frames),\n",
    "        fig.update_layout(updatemenus=updatemenus);\n",
    "\n",
    "        fig.update_layout(width=950, height=800)\n",
    "\n",
    "        fig.add_trace( go.Scatter(x=[0,self.sample_number], y=[1,1], mode='lines'), row=1, col=1 )\n",
    "        fig.add_trace( go.Scatter(x=[0,self.sample_number], y=[0,0], mode='lines'), row=1, col=1 )\n",
    "        fig.show()  "
   ]
  },
  {
   "cell_type": "code",
   "execution_count": null,
   "id": "257ea716",
   "metadata": {},
   "outputs": [],
   "source": [
    "obj=Übergänge(sample_number=1000, timesteps=100, dt=0.1, w=1, delta_w=3)"
   ]
  },
  {
   "cell_type": "code",
   "execution_count": null,
   "id": "dba1c1f2",
   "metadata": {},
   "outputs": [],
   "source": [
    "obj.plot()"
   ]
  }
 ],
 "metadata": {
  "kernelspec": {
   "display_name": "Python 3 (ipykernel)",
   "language": "python",
   "name": "python3"
  },
  "language_info": {
   "codemirror_mode": {
    "name": "ipython",
    "version": 3
   },
   "file_extension": ".py",
   "mimetype": "text/x-python",
   "name": "python",
   "nbconvert_exporter": "python",
   "pygments_lexer": "ipython3",
   "version": "3.9.7"
  }
 },
 "nbformat": 4,
 "nbformat_minor": 5
}
