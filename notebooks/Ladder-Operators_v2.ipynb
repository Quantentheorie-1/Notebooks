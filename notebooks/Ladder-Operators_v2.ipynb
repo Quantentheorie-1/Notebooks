{
 "cells": [
  {
   "cell_type": "code",
   "execution_count": 1,
   "id": "6503c6b2",
   "metadata": {},
   "outputs": [],
   "source": [
    "import numpy as np\n",
    "import matplotlib.pyplot as plt\n",
    "from matplotlib.widgets import Slider, Button\n",
    "from ipywidgets import interact, interactive, fixed, interact_manual\n",
    "import ipywidgets as widgets\n",
    "from IPython.display import clear_output\n",
    "from functions import Schroedinger_Equation, leiter_operatoren"
   ]
  },
  {
   "cell_type": "code",
   "execution_count": 2,
   "id": "09448f7a",
   "metadata": {},
   "outputs": [],
   "source": [
    "leiter = leiter_operatoren()"
   ]
  },
  {
   "cell_type": "code",
   "execution_count": 3,
   "id": "ccf7b72a",
   "metadata": {},
   "outputs": [
    {
     "data": {
      "application/vnd.jupyter.widget-view+json": {
       "model_id": "b80f8691f422441ebb6919f07ed992b1",
       "version_major": 2,
       "version_minor": 0
      },
      "text/plain": [
       "HBox(children=(Button(description='Absteiger', style=ButtonStyle()), Button(description='Aufsteiger', style=Bu…"
      ]
     },
     "metadata": {},
     "output_type": "display_data"
    },
    {
     "data": {
      "application/vnd.jupyter.widget-view+json": {
       "model_id": "b743277951784c768c1a711741364d17",
       "version_major": 2,
       "version_minor": 0
      },
      "text/plain": [
       "Output()"
      ]
     },
     "metadata": {},
     "output_type": "display_data"
    }
   ],
   "source": [
    "leiter.display()"
   ]
  },
  {
   "cell_type": "code",
   "execution_count": null,
   "id": "1b2026b4",
   "metadata": {},
   "outputs": [],
   "source": [
    "### Normierung nicht erhalten nach mehreren Aufsteiger Schritten ???"
   ]
  },
  {
   "cell_type": "markdown",
   "id": "45b2cbcd",
   "metadata": {},
   "source": [
    "# Schritt für Schritt Berechnung"
   ]
  },
  {
   "cell_type": "code",
   "execution_count": 4,
   "id": "70666cb2",
   "metadata": {},
   "outputs": [],
   "source": [
    "hbar = 1\n",
    "m = 1"
   ]
  },
  {
   "cell_type": "markdown",
   "id": "ff84842b",
   "metadata": {},
   "source": [
    "### Initialisierung des diskreten 1D Koordinatensystems"
   ]
  },
  {
   "cell_type": "code",
   "execution_count": 7,
   "id": "6044a452",
   "metadata": {},
   "outputs": [],
   "source": [
    "x_min = -10\n",
    "x_max = 10\n",
    "Nx = 2**10\n",
    "dx = (x_max-x_min)/(Nx)\n",
    "x_grid = np.arange(x_min,x_max,dx)"
   ]
  },
  {
   "cell_type": "markdown",
   "id": "27c34495",
   "metadata": {},
   "source": [
    "### Wellenfunktion initialisieren"
   ]
  },
  {
   "cell_type": "markdown",
   "id": "3ad3ab5b",
   "metadata": {},
   "source": [
    "Die Wellenfunktion im Ortsraum wird als das Gaußsche Wellenpaket\n",
    "\n",
    "$\\Psi(x)= \\frac{1}{\\sqrt{\\pi x_0}} e^{-\\frac{1}{2}(\\frac{x}{x_0})^2}$\n",
    "\n",
    "definiert."
   ]
  },
  {
   "cell_type": "code",
   "execution_count": 8,
   "id": "84f2ada1",
   "metadata": {},
   "outputs": [],
   "source": [
    "def init_psi(x0=1):\n",
    "    psi = np.zeros(Nx,dtype=complex)\n",
    "    psi[:] = np.exp( -(x_grid/x0)**2 / 2 ) * np.sqrt(1/np.pi*x0)\n",
    "    return psi"
   ]
  },
  {
   "cell_type": "markdown",
   "id": "d6657202",
   "metadata": {},
   "source": [
    "### Ableitung als Differenzenquotient"
   ]
  },
  {
   "cell_type": "markdown",
   "id": "1aed8854",
   "metadata": {},
   "source": [
    "Die Ableitung von $\\Psi(x)$ wird an jedem Gitterpunkt mithilfe des zentralen Differenzenquotienten berechnet:\n",
    "\n",
    "$\\frac{d\\Psi(x)}{dx}\\big|_{x=x_i} = \\frac{\\Psi(x_{i+1}) - \\Psi(x_{i-1})}{2\\Delta x}$ \n",
    "\n",
    "Mit Ausnahme der Randpunkte, wo am linken Rand der Vorwärts-Differenzenquotient und am rechten Rand der Rückwärts-Differenzenquotient verwendet werden."
   ]
  },
  {
   "cell_type": "code",
   "execution_count": 9,
   "id": "a46d9cdc",
   "metadata": {},
   "outputs": [],
   "source": [
    "def diff_psi(psi):\n",
    "    d_psi = np.zeros(Nx,dtype=complex)\n",
    "    d_psi[0] = (psi[1] - psi[0]) / dx\n",
    "    d_psi[-1] = (psi[-1] - psi[-2]) / dx\n",
    "    for i in range(1,Nx-1):\n",
    "        d_psi[i] = (psi[i+1] - psi[i-1]) / (2 * dx)\n",
    "    return d_psi"
   ]
  },
  {
   "cell_type": "markdown",
   "id": "59eeba7a",
   "metadata": {},
   "source": [
    "### Leiteroperatoren"
   ]
  },
  {
   "cell_type": "markdown",
   "id": "51f974d6",
   "metadata": {},
   "source": [
    "Definition der Leiteroperatoren für den Harmonischen Oszillator\n",
    "\n",
    "$\\hat{a}\\: \\Psi(x) = \\frac{1}{\\sqrt{2}} (\\frac{d}{dx} + x) \\Psi(x)$\n",
    "\n",
    "$\\hat{a}^{\\dagger}\\: \\Psi(x) = \\frac{1}{\\sqrt{2}} (-\\frac{d}{dx} + x) \\Psi(x)$"
   ]
  },
  {
   "cell_type": "code",
   "execution_count": 10,
   "id": "a2241817",
   "metadata": {},
   "outputs": [],
   "source": [
    "def apply_a(psi):\n",
    "    d_psi = diff_psi(psi)\n",
    "    return (d_psi + x_grid * psi) / np.sqrt(2)"
   ]
  },
  {
   "cell_type": "code",
   "execution_count": 11,
   "id": "c161d230",
   "metadata": {},
   "outputs": [],
   "source": [
    "def apply_a_dagger(psi):\n",
    "    d_psi = diff_psi(psi)\n",
    "    return (-d_psi + x_grid * psi) / np.sqrt(2)"
   ]
  },
  {
   "cell_type": "markdown",
   "id": "bd2e8ec3",
   "metadata": {},
   "source": [
    "### Wahrscheinlichkeitsdichte"
   ]
  },
  {
   "cell_type": "markdown",
   "id": "f9ec35dc",
   "metadata": {},
   "source": [
    "Berechnung der Wahrscheinlichkeitsdichte im Ortsraum:\n",
    "\n",
    "$\\rho(x,t) = |\\Psi(x,t)|^2$ "
   ]
  },
  {
   "cell_type": "code",
   "execution_count": 12,
   "id": "2e6ebc21",
   "metadata": {},
   "outputs": [],
   "source": [
    "def calc_rho(psi):\n",
    "     return np.abs(psi)**2"
   ]
  },
  {
   "cell_type": "markdown",
   "id": "28680a90",
   "metadata": {},
   "source": [
    "### Plotten"
   ]
  },
  {
   "cell_type": "code",
   "execution_count": 13,
   "id": "889a1617",
   "metadata": {},
   "outputs": [],
   "source": [
    "def plot_psi(psi):\n",
    "    rho = calc_rho(psi)\n",
    "        \n",
    "    fig, axs = plt.subplots(2)\n",
    "    axs[0].plot(x_grid, np.real(psi[:]), \"red\", label='Re[$\\psi(x,t)$]')\n",
    "    axs[0].plot(x_grid, np.imag(psi[:]), \"green\", label='Im[$\\psi(x,t)$]')\n",
    "\n",
    "    axs[1].plot(x_grid, rho[:], \"black\", label='$|\\psi(x,t)|^2$')\n",
    "    \n",
    "    axs[0].legend(loc='upper right')\n",
    "    axs[1].legend(loc='upper right')\n",
    "    fig.set_size_inches(10, 9)\n",
    "    \n",
    "    axs[0].set_xlim([x_min, x_max])\n",
    "    axs[1].set_xlim([x_min, x_max])\n",
    "\n",
    "    plt.rcParams['font.size'] = '20'\n",
    "    plt.show()"
   ]
  },
  {
   "cell_type": "code",
   "execution_count": 14,
   "id": "443db957",
   "metadata": {},
   "outputs": [],
   "source": [
    "class psi_tracker_class:\n",
    "    def __init__(self):\n",
    "        self.psi = init_psi()\n",
    "    \n",
    "    def a_click(self):\n",
    "        self.psi = apply_a(self.psi)\n",
    "    \n",
    "    def a_dagger_click(self):\n",
    "        self.psi = apply_a_dagger(self.psi)\n",
    "            \n",
    "    def reset_click(self):\n",
    "        self.psi = init_psi()\n",
    "        \n",
    "    def plot(self):\n",
    "        plot_psi(self.psi)"
   ]
  },
  {
   "cell_type": "code",
   "execution_count": 15,
   "id": "3a2d7359",
   "metadata": {},
   "outputs": [
    {
     "data": {
      "application/vnd.jupyter.widget-view+json": {
       "model_id": "6329680f31304da980f5f968523045f3",
       "version_major": 2,
       "version_minor": 0
      },
      "text/plain": [
       "HBox(children=(Button(description='Absteiger', style=ButtonStyle()), Button(description='Aufsteiger', style=Bu…"
      ]
     },
     "metadata": {},
     "output_type": "display_data"
    },
    {
     "data": {
      "application/vnd.jupyter.widget-view+json": {
       "model_id": "d9bdda9fd02a4a76acc897c6412804bb",
       "version_major": 2,
       "version_minor": 0
      },
      "text/plain": [
       "Output()"
      ]
     },
     "metadata": {},
     "output_type": "display_data"
    }
   ],
   "source": [
    "psi_tracker = psi_tracker_class()\n",
    "\n",
    "a_button = widgets.Button(description='Absteiger')\n",
    "a_dagger_button = widgets.Button(description='Aufsteiger')\n",
    "reset_button = widgets.Button(description='Reset')\n",
    "\n",
    "def a_button_function(click_input):\n",
    "    with out:\n",
    "        clear_output()\n",
    "        psi_tracker.a_click()\n",
    "        psi_tracker.plot()\n",
    "                \n",
    "a_button.on_click(a_button_function)\n",
    "\n",
    "def a_dagger_button_function(click_input):\n",
    "    with out:\n",
    "        clear_output()\n",
    "        psi_tracker.a_dagger_click()\n",
    "        psi_tracker.plot()\n",
    "                \n",
    "a_dagger_button.on_click(a_dagger_button_function)\n",
    "        \n",
    "def reset_button_function(click_input):\n",
    "    with out:\n",
    "        clear_output()\n",
    "        psi_tracker.reset_click()\n",
    "        psi_tracker.plot()\n",
    "        \n",
    "reset_button.on_click(reset_button_function)\n",
    "\n",
    "out = widgets.Output()\n",
    "reset_button_function('')\n",
    "\n",
    "display(widgets.HBox([a_button,a_dagger_button,reset_button] ),out)"
   ]
  },
  {
   "cell_type": "code",
   "execution_count": null,
   "id": "dade522b",
   "metadata": {},
   "outputs": [],
   "source": []
  },
  {
   "cell_type": "code",
   "execution_count": null,
   "id": "b67c2aad",
   "metadata": {},
   "outputs": [],
   "source": []
  },
  {
   "cell_type": "code",
   "execution_count": null,
   "id": "103f4600",
   "metadata": {},
   "outputs": [],
   "source": []
  },
  {
   "cell_type": "code",
   "execution_count": null,
   "id": "e9399c0a",
   "metadata": {},
   "outputs": [],
   "source": []
  },
  {
   "cell_type": "code",
   "execution_count": null,
   "id": "e0e09308",
   "metadata": {},
   "outputs": [],
   "source": []
  },
  {
   "cell_type": "code",
   "execution_count": null,
   "id": "4c5c0b96",
   "metadata": {},
   "outputs": [],
   "source": []
  },
  {
   "cell_type": "code",
   "execution_count": null,
   "id": "e95e8534",
   "metadata": {},
   "outputs": [],
   "source": []
  },
  {
   "cell_type": "code",
   "execution_count": null,
   "id": "bc3a85e0",
   "metadata": {},
   "outputs": [],
   "source": []
  },
  {
   "cell_type": "code",
   "execution_count": null,
   "id": "fe1f3a21",
   "metadata": {},
   "outputs": [],
   "source": []
  },
  {
   "cell_type": "code",
   "execution_count": null,
   "id": "357ae165",
   "metadata": {
    "scrolled": false
   },
   "outputs": [],
   "source": [
    "initial_psi = init_psi()\n",
    "\n",
    "fig, axs = plt.subplots()\n",
    "fig.subplots_adjust(bottom=0.2)\n",
    "\n",
    "line_real, = axs.plot(x_grid, np.real(initial_psi[:]), \"red\", label='Re[$\\psi(x,t)$]')\n",
    "\n",
    "class psi_tracker_class:\n",
    "    def __init__(self):\n",
    "        self.psi = init_psi()\n",
    "        self.rho = np.abs(self.psi)**2\n",
    "        \n",
    "    def calc_rho(self):\n",
    "        self.rho = np.abs(self.psi)**2\n",
    "    \n",
    "    def a_click(self,event):\n",
    "        self.psi = apply_a(self.psi)\n",
    "        self.calc_rho()\n",
    "        \n",
    "        line_real.set_ydata(np.real(self.psi))\n",
    "        plt.draw()\n",
    "    \n",
    "    def a_dagger_click(self,event):\n",
    "        self.psi = apply_a_dagger(self.psi)\n",
    "        self.calc_rho()\n",
    "        \n",
    "        line_real.set_ydata(np.real(self.psi))\n",
    "        plt.autoscale\n",
    "        plt.draw()\n",
    "        \n",
    "    def reset_click(self,event):\n",
    "        self.psi = init_psi()\n",
    "        self.calc_rho()\n",
    "        \n",
    "        line_real.set_ydata(np.real(self.psi))\n",
    "        plt.draw()\n",
    "\n",
    "psi_tracker = psi_tracker_class()\n",
    "\n",
    "\n",
    "axs.legend(loc='upper right')\n",
    "\n",
    "    \n",
    "axs.set_xlim([x_min, x_max])\n",
    "\n",
    "plt.rcParams['font.size'] = '20'\n",
    "\n",
    "ax_a = fig.add_axes([0.6, 0, 0.2, 0.075])\n",
    "a_button = Button(ax_a,'Absteiger')\n",
    "a_button.on_clicked(psi_tracker.a_click)\n",
    "\n",
    "ax_a_dagger = fig.add_axes([0.81, 0, 0.2, 0.075])\n",
    "a_dagger_button = Button(ax_a_dagger,'Aufsteiger')\n",
    "a_dagger_button.on_clicked(psi_tracker.a_dagger_click)\n",
    "\n",
    "\n",
    "plt.show()"
   ]
  },
  {
   "cell_type": "code",
   "execution_count": null,
   "id": "c91fdd85",
   "metadata": {},
   "outputs": [],
   "source": []
  },
  {
   "cell_type": "code",
   "execution_count": null,
   "id": "45d865e9",
   "metadata": {},
   "outputs": [],
   "source": []
  },
  {
   "cell_type": "code",
   "execution_count": null,
   "id": "74dc9544",
   "metadata": {},
   "outputs": [],
   "source": []
  },
  {
   "cell_type": "code",
   "execution_count": 27,
   "id": "2b938f4e",
   "metadata": {},
   "outputs": [
    {
     "data": {
      "application/vnd.jupyter.widget-view+json": {
       "model_id": "04f8e08c3b38478986932f252349000d",
       "version_major": 2,
       "version_minor": 0
      },
      "image/png": "[encoded data removed]",
      "text/html": [
       "\n",
       "            <div style=\"display: inline-block;\">\n",
       "                <div class=\"jupyter-widgets widget-label\" style=\"text-align: center;\">\n",
       "                    Figure\n",
       "                </div>\n",
       "                <img src='data:image/png;base64,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' width=640.0/>\n",
       "            </div>\n",
       "        "
      ],
      "text/plain": [
       "Canvas(toolbar=Toolbar(toolitems=[('Home', 'Reset original view', 'home', 'home'), ('Back', 'Back to previous …"
      ]
     },
     "metadata": {},
     "output_type": "display_data"
    }
   ],
   "source": [
    "freqs = np.arange(2, 20, 3)\n",
    "\n",
    "fig, ax = plt.subplots()\n",
    "fig.subplots_adjust(bottom=0.2)\n",
    "t = np.arange(0.0, 1.0, 0.001)\n",
    "s = np.sin(2*np.pi*freqs[0]*t)\n",
    "l, = ax.plot(t, s, lw=2)\n",
    "\n",
    "\n",
    "class Index:\n",
    "    ind = 0\n",
    "\n",
    "    def next(self, event):\n",
    "        self.ind += 1\n",
    "        i = self.ind % len(freqs)\n",
    "        ydata = np.sin(2*np.pi*freqs[i]*t)\n",
    "        l.set_ydata(ydata)\n",
    "        plt.draw()\n",
    "\n",
    "    def prev(self, event):\n",
    "        self.ind -= 1\n",
    "        i = self.ind % len(freqs)\n",
    "        ydata = np.sin(2*np.pi*freqs[i]*t)\n",
    "        l.set_ydata(ydata)\n",
    "        plt.draw()\n",
    "\n",
    "callback = Index()\n",
    "axprev = fig.add_axes([0.7, 0.05, 0.1, 0.075])\n",
    "axnext = fig.add_axes([0.81, 0.05, 0.1, 0.075])\n",
    "bnext = Button(axnext, 'Next')\n",
    "bnext.on_clicked(callback.next)\n",
    "bprev = Button(axprev, 'Previous')\n",
    "bprev.on_clicked(callback.prev)\n",
    "\n",
    "plt.show()"
   ]
  },
  {
   "cell_type": "code",
   "execution_count": null,
   "id": "790ca1ca",
   "metadata": {},
   "outputs": [],
   "source": []
  },
  {
   "cell_type": "code",
   "execution_count": null,
   "id": "f715ba34",
   "metadata": {},
   "outputs": [],
   "source": []
  },
  {
   "cell_type": "code",
   "execution_count": null,
   "id": "1274c4ca",
   "metadata": {},
   "outputs": [],
   "source": []
  },
  {
   "cell_type": "code",
   "execution_count": null,
   "id": "8cb87693",
   "metadata": {},
   "outputs": [],
   "source": []
  }
 ],
 "metadata": {
  "kernelspec": {
   "display_name": "Python 3 (ipykernel)",
   "language": "python",
   "name": "python3"
  },
  "language_info": {
   "codemirror_mode": {
    "name": "ipython",
    "version": 3
   },
   "file_extension": ".py",
   "mimetype": "text/x-python",
   "name": "python",
   "nbconvert_exporter": "python",
   "pygments_lexer": "ipython3",
   "version": "3.9.7"
  }
 },
 "nbformat": 4,
 "nbformat_minor": 5
}
