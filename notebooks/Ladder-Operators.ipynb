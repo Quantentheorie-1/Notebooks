{
 "cells": [
  {
   "cell_type": "markdown",
   "id": "11983e1d",
   "metadata": {},
   "source": [
    "# Leiteroperatoren"
   ]
  },
  {
   "cell_type": "markdown",
   "id": "c105bac8",
   "metadata": {},
   "source": [
    "## Vorbereitung"
   ]
  },
  {
   "cell_type": "markdown",
   "id": "1327f737",
   "metadata": {},
   "source": [
    "Führen sie zuerst die folgende Zelle aus, um die Simulation vorzubereiten. Sie können diese danach mit dem Pfeil links einklappen. "
   ]
  },
  {
   "cell_type": "code",
   "execution_count": null,
   "id": "c45b1fae",
   "metadata": {},
   "outputs": [],
   "source": [
    "import numpy as np\n",
    "import matplotlib.pyplot as plt\n",
    "import ipywidgets as widgets\n",
    "import plotly.graph_objects as go\n",
    "from plotly.subplots import make_subplots\n",
    "\n",
    "class leiter_operatoren():\n",
    "    def __init__(self, hbar=1, m=1, omega=1, x_min=-10, x_max=10, Nx=2**9):\n",
    "        self.hbar = hbar\n",
    "        self.m = m\n",
    "        self.omega=omega\n",
    "    \n",
    "        self.x_min = x_min\n",
    "        self.x_max = x_max\n",
    "        self.Nx = Nx # Less grid points increases stability after several a/a^dagger operations\n",
    "    \n",
    "        self.dx = (x_max-x_min)/(Nx)#Nx-1???\n",
    "        self.x_grid = np.arange(self.x_min,self.x_max,self.dx)\n",
    "        self.init_psi()\n",
    "    \n",
    "    def init_psi(self):\n",
    "        self.psi = np.zeros(self.Nx, dtype=complex)\n",
    "        self.psi[:] = self.m * self.omega / (np.sqrt(2*np.pi) * self.hbar) * np.exp( - self.m * self.omega * self.x_grid**2 / (2 * self.hbar) )\n",
    "        self.n = 0\n",
    "    \n",
    "    def diff_psi(self, psi):\n",
    "        d_psi = np.zeros(self.Nx,dtype=complex)\n",
    "        d_psi[0] = (psi[1] - psi[0]) / self.dx\n",
    "        d_psi[-1] = (psi[-1] - psi[-2]) / self.dx\n",
    "        for i in range(1,self.Nx-1):\n",
    "            d_psi[i] = (psi[i+1] - psi[i-1]) / (2 * self.dx)\n",
    "        return d_psi\n",
    "    \n",
    "    def apply_a(self):\n",
    "        d_psi = self.diff_psi(self.psi)\n",
    "        self.psi = (np.sqrt(self.m * self.omega / self.hbar) * self.x_grid * self.psi + np.sqrt(self.hbar / (self.m * self.omega)) * d_psi) / np.sqrt(2)\n",
    "        self.norm_a()\n",
    "        self.n += -1\n",
    "        \n",
    "    \n",
    "    def apply_a_dagger(self):\n",
    "        d_psi = self.diff_psi(self.psi)\n",
    "        self.psi = ( np.sqrt(self.m * self.omega / self.hbar) * self.x_grid * self.psi - np.sqrt(self.hbar / (self.m * self.omega)) * d_psi) / np.sqrt(2)\n",
    "        self.norm_a_dagger()\n",
    "        self.n += 1\n",
    "    \n",
    "    def norm_a(self):\n",
    "        if self.n > 0:\n",
    "            self.psi = self.psi / np.sqrt(self.n)\n",
    "        #else: return self.psi\n",
    "        \n",
    "    def norm_a_dagger(self):\n",
    "        if self.n > 0:\n",
    "            self.psi= self.psi / np.sqrt(self.n+1)\n",
    "        #else: return psi\n",
    "    \n",
    "    def calc_rho(self,psi):\n",
    "        return np.abs(psi)**2\n",
    "    \n",
    "    \n",
    "    def plot_it(self):\n",
    "        a_button = widgets.Button(description='Absteiger')\n",
    "        a_dagger_button = widgets.Button(description='Aufsteiger')\n",
    "        reset_button = widgets.Button(description='Reset')\n",
    "\n",
    "        def a_button_function(click_input):\n",
    "            self.apply_a()\n",
    "            with fig1.batch_update():\n",
    "                fig1.data[0].y = np.real(self.psi)\n",
    "                rho = self.calc_rho(self.psi)\n",
    "                fig2.data[0].y = rho\n",
    "\n",
    "        a_button.on_click(a_button_function)\n",
    "\n",
    "        def a_dagger_button_function(click_input):\n",
    "            self.apply_a_dagger()\n",
    "            with fig1.batch_update():\n",
    "                fig1.data[0].y = np.real(self.psi)\n",
    "                rho = self.calc_rho(self.psi)\n",
    "                fig2.data[0].y = rho\n",
    "\n",
    "        a_dagger_button.on_click(a_dagger_button_function)\n",
    "\n",
    "        def reset_button_function(click_input):\n",
    "            self.init_psi()\n",
    "            with fig1.batch_update():\n",
    "                fig1.data[0].y = np.real(self.psi)\n",
    "                rho = self.calc_rho(self.psi)\n",
    "                fig2.data[0].y = rho\n",
    "\n",
    "        reset_button.on_click(reset_button_function)\n",
    "\n",
    "        init_rho = self.calc_rho(self.psi)\n",
    "        \n",
    "        trace1 = go.Scatter(x=self.x_grid, y=np.real(self.psi[:]))\n",
    "\n",
    "        trace2 = go.Scatter(x=self.x_grid, y=init_rho[:], line = dict(color='firebrick'))\n",
    "\n",
    "        fig1 = go.FigureWidget(data=trace1)\n",
    "\n",
    "        fig2 = go.FigureWidget(data=trace2)\n",
    "\n",
    "        fig1.update_xaxes(range=[self.x_min, self.x_max])\n",
    "        fig2.update_xaxes(range=[self.x_min, self.x_max])\n",
    "        fig1.update_yaxes(range=[-0.5, 0.5])\n",
    "        fig2.update_yaxes(range=[0,0.25])\n",
    "        fig1.update_layout(title='Realteil der Wellenfunktion', width=900, height=300)\n",
    "        fig2.update_layout(title='Wahrscheinlichkeitsdichte', width=900, height=300)\n",
    "        fig1.update_layout(margin=go.layout.Margin(\n",
    "                l=50,\n",
    "                r=50,\n",
    "                b=50,\n",
    "                t=40,\n",
    "            ))\n",
    "        fig2.update_layout(margin=go.layout.Margin(\n",
    "                l=50,\n",
    "                r=50,\n",
    "                b=0,\n",
    "                t=40,\n",
    "            ))\n",
    "        \n",
    "        fig1['layout']['xaxis']['title']='x'\n",
    "        fig2['layout']['xaxis']['title']='x'\n",
    "\n",
    "        container = widgets.HBox(children=[a_button,a_dagger_button,reset_button])\n",
    "\n",
    "        return widgets.VBox([container, fig1, fig2])"
   ]
  },
  {
   "cell_type": "markdown",
   "id": "234d5842",
   "metadata": {},
   "source": [
    "## Simulation"
   ]
  },
  {
   "cell_type": "markdown",
   "id": "d2154e46",
   "metadata": {},
   "source": [
    "Durch das ausführen der nächsten Zellen starten sie die Simulation."
   ]
  },
  {
   "cell_type": "code",
   "execution_count": null,
   "id": "3ae5b059",
   "metadata": {},
   "outputs": [],
   "source": [
    "from google.colab import output\n",
    "output.enable_custom_widget_manager()"
   ]
  },
  {
   "cell_type": "code",
   "execution_count": null,
   "id": "ccf7b72a",
   "metadata": {},
   "outputs": [],
   "source": [
    "leiter = leiter_operatoren()\n",
    "the_plot = leiter.plot_it()\n",
    "the_plot"
   ]
  },
  {
   "cell_type": "markdown",
   "id": "45b2cbcd",
   "metadata": {},
   "source": [
    "## Schritt für Schritt Berechnung"
   ]
  },
  {
   "cell_type": "code",
   "execution_count": null,
   "id": "70666cb2",
   "metadata": {},
   "outputs": [],
   "source": [
    "hbar = 1\n",
    "m = 1\n",
    "omega = 1"
   ]
  },
  {
   "cell_type": "markdown",
   "id": "ff84842b",
   "metadata": {},
   "source": [
    "### Initialisierung des diskreten 1D Koordinatensystems"
   ]
  },
  {
   "cell_type": "code",
   "execution_count": null,
   "id": "6044a452",
   "metadata": {},
   "outputs": [],
   "source": [
    "x_min = -10\n",
    "x_max = 10\n",
    "Nx = 2**10\n",
    "dx = (x_max-x_min)/(Nx)\n",
    "x_grid = np.arange(x_min,x_max,dx)"
   ]
  },
  {
   "cell_type": "markdown",
   "id": "27c34495",
   "metadata": {},
   "source": [
    "### Wellenfunktion initialisieren"
   ]
  },
  {
   "cell_type": "markdown",
   "id": "3ad3ab5b",
   "metadata": {},
   "source": [
    "Die normierte Wellenfunktion des Grundzustandes des harmonischen Oszillators, gegeben als\n",
    "\n",
    "$\\psi_0 (x) = \\frac{m\\omega}{\\sqrt{2\\pi\\hbar^2} } e^{-\\frac{1}{2} \\frac{m\\omega}{\\hbar} x^2},$\n",
    "\n",
    "wird initialisiert."
   ]
  },
  {
   "cell_type": "code",
   "execution_count": null,
   "id": "84f2ada1",
   "metadata": {},
   "outputs": [],
   "source": [
    "def init_psi():\n",
    "    psi = np.zeros(Nx,dtype=complex)\n",
    "    psi[:] = m * omega / (np.sqrt(2*np.pi) * hbar) * np.exp( - m * omega * x_grid**2 / (2 * hbar) ) \n",
    "    return psi"
   ]
  },
  {
   "cell_type": "markdown",
   "id": "d6657202",
   "metadata": {},
   "source": [
    "### Ableitung als Differenzenquotient"
   ]
  },
  {
   "cell_type": "markdown",
   "id": "1aed8854",
   "metadata": {},
   "source": [
    "Die Ableitung von $\\psi(x)$ wird an jedem Gitterpunkt mithilfe des zentralen Differenzenquotienten berechnet:\n",
    "\n",
    "$\\frac{d\\psi(x)}{dx}\\big|_{x=x_i} = \\frac{\\psi(x_{i+1}) - \\psi(x_{i-1})}{2\\Delta x}$ \n",
    "\n",
    "Mit Ausnahme der Randpunkte, wo am linken Rand der Vorwärts-Differenzenquotient und am rechten Rand der Rückwärts-Differenzenquotient verwendet werden."
   ]
  },
  {
   "cell_type": "code",
   "execution_count": null,
   "id": "a46d9cdc",
   "metadata": {},
   "outputs": [],
   "source": [
    "def diff_psi(psi):\n",
    "    d_psi = np.zeros(Nx,dtype=complex)\n",
    "    d_psi[0] = (psi[1] - psi[0]) / dx\n",
    "    d_psi[-1] = (psi[-1] - psi[-2]) / dx\n",
    "    for i in range(1,Nx-1):\n",
    "        d_psi[i] = (psi[i+1] - psi[i-1]) / (2 * dx)\n",
    "    return d_psi"
   ]
  },
  {
   "cell_type": "markdown",
   "id": "59eeba7a",
   "metadata": {},
   "source": [
    "### Leiteroperatoren"
   ]
  },
  {
   "cell_type": "markdown",
   "id": "51f974d6",
   "metadata": {},
   "source": [
    "Definition der Leiteroperatoren für den Harmonischen Oszillator\n",
    "\n",
    "$\\hat{a}^{\\dagger} \\psi(x) = \\frac{1}{\\sqrt{2}} \\left( \\sqrt{\\frac{m\\omega}{\\hbar}} x - \\sqrt{\\frac{\\hbar}{m\\omega}} \\frac{d}{dx}\\right) \\psi(x)$\n",
    "\n",
    "$\\hat{a} \\psi(x) = \\frac{1}{\\sqrt{2}} \\left( \\sqrt{\\frac{m\\omega}{\\hbar}} x + \\sqrt{\\frac{\\hbar}{m\\omega}} \\frac{d}{dx}\\right) \\psi(x)$"
   ]
  },
  {
   "cell_type": "code",
   "execution_count": null,
   "id": "a2241817",
   "metadata": {},
   "outputs": [],
   "source": [
    "def apply_a(psi):\n",
    "    d_psi = diff_psi(psi)\n",
    "    return (np.sqrt(m*omega/hbar) * x_grid * psi + np.sqrt(hbar/(m*omega)) * d_psi) / np.sqrt(2)"
   ]
  },
  {
   "cell_type": "code",
   "execution_count": null,
   "id": "c161d230",
   "metadata": {},
   "outputs": [],
   "source": [
    "def apply_a_dagger(psi):\n",
    "    d_psi = diff_psi(psi)\n",
    "    return ( np.sqrt(m*omega/hbar) * x_grid * psi - np.sqrt(hbar/(m*omega)) * d_psi) / np.sqrt(2)"
   ]
  },
  {
   "cell_type": "markdown",
   "id": "71e4d85a",
   "metadata": {},
   "source": [
    "### Normierung des Eigenzustandes"
   ]
  },
  {
   "cell_type": "markdown",
   "id": "746fd123",
   "metadata": {},
   "source": [
    "Aus der allgemeinen Wirkung von Leiteroperatoren auf Eigenzustände:\n",
    "\n",
    "$\\hat{a} |n\\rangle = \\sqrt{n} |n-1\\rangle$\n",
    "\n",
    "$\\hat{a}^{\\dagger} |n\\rangle = \\sqrt{n+1} |n+1\\rangle$\n",
    "\n",
    "folgt, dass die Wellenfunktion nach Wirkung der Leiteroperatoren folgendermaßen normiert werden müssen, um wieder einen normierten Eigenzustand darzustellen:\n",
    "\n",
    "$ |n-1\\rangle = \\frac{1}{\\sqrt{n}} \\hat{a} |n\\rangle$\n",
    "\n",
    "$ |n+1\\rangle = \\frac{1}{\\sqrt{n+1}} \\hat{a}^{\\dagger} |n\\rangle$"
   ]
  },
  {
   "cell_type": "code",
   "execution_count": null,
   "id": "e70b46b9",
   "metadata": {},
   "outputs": [],
   "source": [
    "def norm_a(psi, n):\n",
    "    if n >= 1:\n",
    "        return psi / np.sqrt(n)\n",
    "    else: return psi"
   ]
  },
  {
   "cell_type": "code",
   "execution_count": null,
   "id": "cfc962dd",
   "metadata": {},
   "outputs": [],
   "source": [
    "def norm_a_dagger(psi, n):\n",
    "    if n >= 0:\n",
    "        return psi / np.sqrt(n+1)\n",
    "    else: return psi"
   ]
  },
  {
   "cell_type": "markdown",
   "id": "bd2e8ec3",
   "metadata": {},
   "source": [
    "### Wahrscheinlichkeitsdichte"
   ]
  },
  {
   "cell_type": "markdown",
   "id": "f9ec35dc",
   "metadata": {},
   "source": [
    "Berechnung der Wahrscheinlichkeitsdichte im Ortsraum:\n",
    "\n",
    "$\\rho(x) = |\\Psi(x)|^2$ "
   ]
  },
  {
   "cell_type": "code",
   "execution_count": null,
   "id": "2e6ebc21",
   "metadata": {},
   "outputs": [],
   "source": [
    "def calc_rho(psi):\n",
    "     return np.abs(psi)**2"
   ]
  },
  {
   "cell_type": "markdown",
   "id": "28680a90",
   "metadata": {},
   "source": [
    "### Plotten"
   ]
  },
  {
   "cell_type": "code",
   "execution_count": null,
   "id": "443db957",
   "metadata": {},
   "outputs": [],
   "source": [
    "class psi_tracker_class:\n",
    "    def __init__(self):\n",
    "        self.psi = init_psi()\n",
    "        self.n = 0\n",
    "    \n",
    "    def a_click(self):\n",
    "        self.psi = apply_a(self.psi)\n",
    "        self.psi = norm_a(self.psi, self.n)\n",
    "        self.n += -1\n",
    "    \n",
    "    def a_dagger_click(self):\n",
    "        self.psi = apply_a_dagger(self.psi)\n",
    "        self.psi = norm_a_dagger(self.psi, self.n)\n",
    "        self.n += 1\n",
    "            \n",
    "    def reset_click(self):\n",
    "        self.psi = init_psi()\n",
    "        self.n = 0\n",
    "        \n",
    "    def plot(self):\n",
    "        figure=plot_psi(self.psi)\n",
    "        return figure"
   ]
  },
  {
   "cell_type": "code",
   "execution_count": null,
   "id": "3a2d7359",
   "metadata": {
    "scrolled": false
   },
   "outputs": [],
   "source": [
    "psi_tracker = psi_tracker_class()\n",
    "\n",
    "a_button = widgets.Button(description='Absteiger')\n",
    "a_dagger_button = widgets.Button(description='Aufsteiger')\n",
    "reset_button = widgets.Button(description='Reset')\n",
    "\n",
    "def a_button_function(click_input):\n",
    "    psi_tracker.a_click()\n",
    "    with fig1.batch_update():\n",
    "        fig1.data[0].y = np.real(psi_tracker.psi)\n",
    "        rho = calc_rho(psi_tracker.psi)\n",
    "        fig2.data[0].y = rho\n",
    "                \n",
    "a_button.on_click(a_button_function)\n",
    "\n",
    "def a_dagger_button_function(click_input):\n",
    "    psi_tracker.a_dagger_click()\n",
    "    with fig1.batch_update():\n",
    "        fig1.data[0].y = np.real(psi_tracker.psi)\n",
    "        rho = calc_rho(psi_tracker.psi)\n",
    "        fig2.data[0].y = rho\n",
    "        \n",
    "a_dagger_button.on_click(a_dagger_button_function)\n",
    "        \n",
    "def reset_button_function(click_input):\n",
    "    psi_tracker.reset_click()\n",
    "    with fig1.batch_update():\n",
    "        fig1.data[0].y = np.real(psi_tracker.psi)\n",
    "        rho = calc_rho(psi_tracker.psi)\n",
    "        fig2.data[0].y = rho\n",
    "        \n",
    "reset_button.on_click(reset_button_function)\n",
    "\n",
    "initial_psi = psi_tracker.psi\n",
    "init_rho = calc_rho(initial_psi)\n",
    "\n",
    "trace1 = go.Scatter(x=x_grid, y=np.real(initial_psi[:]))\n",
    "\n",
    "trace2 = go.Scatter(x=x_grid, y=init_rho[:], line = dict(color='firebrick'))\n",
    "\n",
    "fig1 = go.FigureWidget(data=trace1)\n",
    "\n",
    "fig2 = go.FigureWidget(data=trace2)\n",
    "\n",
    "fig1.update_xaxes(range=[x_min, x_max])\n",
    "fig2.update_xaxes(range=[x_min, x_max])\n",
    "fig1.update_yaxes(range=[-0.5, 0.5])\n",
    "fig2.update_yaxes(range=[0,0.25])\n",
    "fig1.update_layout(title='Realteil der Wellenfunktion', width=1000, height=300)\n",
    "fig2.update_layout(title='Wahrscheinlichkeitsdichte', width=1000, height=300)\n",
    "fig1.update_layout(margin=go.layout.Margin(\n",
    "        l=50,\n",
    "        r=50,\n",
    "        b=50,\n",
    "        t=40,\n",
    "    ))\n",
    "fig2.update_layout(margin=go.layout.Margin(\n",
    "        l=50,\n",
    "        r=50,\n",
    "        b=0,\n",
    "        t=40,\n",
    "    ))\n",
    "\n",
    "fig1['layout']['xaxis']['title']='x'\n",
    "fig2['layout']['xaxis']['title']='x'\n",
    "\n",
    "container = widgets.HBox(children=[a_button,a_dagger_button,reset_button])\n",
    "\n",
    "widgets.VBox([container, fig1, fig2])"
   ]
  }
 ],
 "metadata": {
  "kernelspec": {
   "display_name": "Python 3 (ipykernel)",
   "language": "python",
   "name": "python3"
  },
  "language_info": {
   "codemirror_mode": {
    "name": "ipython",
    "version": 3
   },
   "file_extension": ".py",
   "mimetype": "text/x-python",
   "name": "python",
   "nbconvert_exporter": "python",
   "pygments_lexer": "ipython3",
   "version": "3.9.7"
  }
 },
 "nbformat": 4,
 "nbformat_minor": 5
}
